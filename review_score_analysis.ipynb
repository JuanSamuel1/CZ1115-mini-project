{
 "cells": [
  {
   "cell_type": "code",
   "execution_count": 2,
   "id": "handed-cricket",
   "metadata": {},
   "outputs": [],
   "source": [
    "import pandas as pd\n",
    "import seaborn as sb\n",
    "import matplotlib.pyplot as plt\n",
    "import numpy as np"
   ]
  },
  {
   "cell_type": "code",
   "execution_count": 3,
   "id": "massive-plenty",
   "metadata": {},
   "outputs": [
    {
     "data": {
      "text/html": [
       "<div>\n",
       "<style scoped>\n",
       "    .dataframe tbody tr th:only-of-type {\n",
       "        vertical-align: middle;\n",
       "    }\n",
       "\n",
       "    .dataframe tbody tr th {\n",
       "        vertical-align: top;\n",
       "    }\n",
       "\n",
       "    .dataframe thead th {\n",
       "        text-align: right;\n",
       "    }\n",
       "</style>\n",
       "<table border=\"1\" class=\"dataframe\">\n",
       "  <thead>\n",
       "    <tr style=\"text-align: right;\">\n",
       "      <th></th>\n",
       "      <th>order_id</th>\n",
       "      <th>customer_id</th>\n",
       "      <th>order_status</th>\n",
       "      <th>order_purchase_timestamp</th>\n",
       "      <th>order_approved_at</th>\n",
       "      <th>order_delivered_carrier_date</th>\n",
       "      <th>order_delivered_customer_date</th>\n",
       "      <th>order_estimated_delivery_date</th>\n",
       "      <th>payment_sequential</th>\n",
       "      <th>payment_type</th>\n",
       "      <th>...</th>\n",
       "      <th>price</th>\n",
       "      <th>freight_value</th>\n",
       "      <th>product_category_name</th>\n",
       "      <th>product_name_lenght</th>\n",
       "      <th>product_description_lenght</th>\n",
       "      <th>product_photos_qty</th>\n",
       "      <th>product_weight_g</th>\n",
       "      <th>product_length_cm</th>\n",
       "      <th>product_height_cm</th>\n",
       "      <th>product_width_cm</th>\n",
       "    </tr>\n",
       "  </thead>\n",
       "  <tbody>\n",
       "    <tr>\n",
       "      <th>0</th>\n",
       "      <td>e481f51cbdc54678b7cc49136f2d6af7</td>\n",
       "      <td>9ef432eb6251297304e76186b10a928d</td>\n",
       "      <td>delivered</td>\n",
       "      <td>2017-10-02 10:56:33</td>\n",
       "      <td>2017-10-02 11:07:15</td>\n",
       "      <td>2017-10-04 19:55:00</td>\n",
       "      <td>2017-10-10 21:25:13</td>\n",
       "      <td>2017-10-18 00:00:00</td>\n",
       "      <td>1</td>\n",
       "      <td>credit_card</td>\n",
       "      <td>...</td>\n",
       "      <td>29.99</td>\n",
       "      <td>8.72</td>\n",
       "      <td>utilidades_domesticas</td>\n",
       "      <td>40.0</td>\n",
       "      <td>268.0</td>\n",
       "      <td>4.0</td>\n",
       "      <td>500.0</td>\n",
       "      <td>19.0</td>\n",
       "      <td>8.0</td>\n",
       "      <td>13.0</td>\n",
       "    </tr>\n",
       "    <tr>\n",
       "      <th>1</th>\n",
       "      <td>53cdb2fc8bc7dce0b6741e2150273451</td>\n",
       "      <td>b0830fb4747a6c6d20dea0b8c802d7ef</td>\n",
       "      <td>delivered</td>\n",
       "      <td>2018-07-24 20:41:37</td>\n",
       "      <td>2018-07-26 03:24:27</td>\n",
       "      <td>2018-07-26 14:31:00</td>\n",
       "      <td>2018-08-07 15:27:45</td>\n",
       "      <td>2018-08-13 00:00:00</td>\n",
       "      <td>1</td>\n",
       "      <td>boleto</td>\n",
       "      <td>...</td>\n",
       "      <td>118.70</td>\n",
       "      <td>22.76</td>\n",
       "      <td>perfumaria</td>\n",
       "      <td>29.0</td>\n",
       "      <td>178.0</td>\n",
       "      <td>1.0</td>\n",
       "      <td>400.0</td>\n",
       "      <td>19.0</td>\n",
       "      <td>13.0</td>\n",
       "      <td>19.0</td>\n",
       "    </tr>\n",
       "    <tr>\n",
       "      <th>2</th>\n",
       "      <td>47770eb9100c2d0c44946d9cf07ec65d</td>\n",
       "      <td>41ce2a54c0b03bf3443c3d931a367089</td>\n",
       "      <td>delivered</td>\n",
       "      <td>2018-08-08 08:38:49</td>\n",
       "      <td>2018-08-08 08:55:23</td>\n",
       "      <td>2018-08-08 13:50:00</td>\n",
       "      <td>2018-08-17 18:06:29</td>\n",
       "      <td>2018-09-04 00:00:00</td>\n",
       "      <td>1</td>\n",
       "      <td>credit_card</td>\n",
       "      <td>...</td>\n",
       "      <td>159.90</td>\n",
       "      <td>19.22</td>\n",
       "      <td>automotivo</td>\n",
       "      <td>46.0</td>\n",
       "      <td>232.0</td>\n",
       "      <td>1.0</td>\n",
       "      <td>420.0</td>\n",
       "      <td>24.0</td>\n",
       "      <td>19.0</td>\n",
       "      <td>21.0</td>\n",
       "    </tr>\n",
       "    <tr>\n",
       "      <th>3</th>\n",
       "      <td>949d5b44dbf5de918fe9c16f97b45f8a</td>\n",
       "      <td>f88197465ea7920adcdbec7375364d82</td>\n",
       "      <td>delivered</td>\n",
       "      <td>2017-11-18 19:28:06</td>\n",
       "      <td>2017-11-18 19:45:59</td>\n",
       "      <td>2017-11-22 13:39:59</td>\n",
       "      <td>2017-12-02 00:28:42</td>\n",
       "      <td>2017-12-15 00:00:00</td>\n",
       "      <td>1</td>\n",
       "      <td>credit_card</td>\n",
       "      <td>...</td>\n",
       "      <td>45.00</td>\n",
       "      <td>27.20</td>\n",
       "      <td>pet_shop</td>\n",
       "      <td>59.0</td>\n",
       "      <td>468.0</td>\n",
       "      <td>3.0</td>\n",
       "      <td>450.0</td>\n",
       "      <td>30.0</td>\n",
       "      <td>10.0</td>\n",
       "      <td>20.0</td>\n",
       "    </tr>\n",
       "    <tr>\n",
       "      <th>4</th>\n",
       "      <td>ad21c59c0840e6cb83a9ceb5573f8159</td>\n",
       "      <td>8ab97904e6daea8866dbdbc4fb7aad2c</td>\n",
       "      <td>delivered</td>\n",
       "      <td>2018-02-13 21:18:39</td>\n",
       "      <td>2018-02-13 22:20:29</td>\n",
       "      <td>2018-02-14 19:46:34</td>\n",
       "      <td>2018-02-16 18:17:02</td>\n",
       "      <td>2018-02-26 00:00:00</td>\n",
       "      <td>1</td>\n",
       "      <td>credit_card</td>\n",
       "      <td>...</td>\n",
       "      <td>19.90</td>\n",
       "      <td>8.72</td>\n",
       "      <td>papelaria</td>\n",
       "      <td>38.0</td>\n",
       "      <td>316.0</td>\n",
       "      <td>4.0</td>\n",
       "      <td>250.0</td>\n",
       "      <td>51.0</td>\n",
       "      <td>15.0</td>\n",
       "      <td>15.0</td>\n",
       "    </tr>\n",
       "  </tbody>\n",
       "</table>\n",
       "<p>5 rows × 36 columns</p>\n",
       "</div>"
      ],
      "text/plain": [
       "                           order_id                       customer_id  \\\n",
       "0  e481f51cbdc54678b7cc49136f2d6af7  9ef432eb6251297304e76186b10a928d   \n",
       "1  53cdb2fc8bc7dce0b6741e2150273451  b0830fb4747a6c6d20dea0b8c802d7ef   \n",
       "2  47770eb9100c2d0c44946d9cf07ec65d  41ce2a54c0b03bf3443c3d931a367089   \n",
       "3  949d5b44dbf5de918fe9c16f97b45f8a  f88197465ea7920adcdbec7375364d82   \n",
       "4  ad21c59c0840e6cb83a9ceb5573f8159  8ab97904e6daea8866dbdbc4fb7aad2c   \n",
       "\n",
       "  order_status order_purchase_timestamp    order_approved_at  \\\n",
       "0    delivered      2017-10-02 10:56:33  2017-10-02 11:07:15   \n",
       "1    delivered      2018-07-24 20:41:37  2018-07-26 03:24:27   \n",
       "2    delivered      2018-08-08 08:38:49  2018-08-08 08:55:23   \n",
       "3    delivered      2017-11-18 19:28:06  2017-11-18 19:45:59   \n",
       "4    delivered      2018-02-13 21:18:39  2018-02-13 22:20:29   \n",
       "\n",
       "  order_delivered_carrier_date order_delivered_customer_date  \\\n",
       "0          2017-10-04 19:55:00           2017-10-10 21:25:13   \n",
       "1          2018-07-26 14:31:00           2018-08-07 15:27:45   \n",
       "2          2018-08-08 13:50:00           2018-08-17 18:06:29   \n",
       "3          2017-11-22 13:39:59           2017-12-02 00:28:42   \n",
       "4          2018-02-14 19:46:34           2018-02-16 18:17:02   \n",
       "\n",
       "  order_estimated_delivery_date  payment_sequential payment_type  ...   price  \\\n",
       "0           2017-10-18 00:00:00                   1  credit_card  ...   29.99   \n",
       "1           2018-08-13 00:00:00                   1       boleto  ...  118.70   \n",
       "2           2018-09-04 00:00:00                   1  credit_card  ...  159.90   \n",
       "3           2017-12-15 00:00:00                   1  credit_card  ...   45.00   \n",
       "4           2018-02-26 00:00:00                   1  credit_card  ...   19.90   \n",
       "\n",
       "   freight_value  product_category_name  product_name_lenght  \\\n",
       "0           8.72  utilidades_domesticas                 40.0   \n",
       "1          22.76             perfumaria                 29.0   \n",
       "2          19.22             automotivo                 46.0   \n",
       "3          27.20               pet_shop                 59.0   \n",
       "4           8.72              papelaria                 38.0   \n",
       "\n",
       "  product_description_lenght product_photos_qty product_weight_g  \\\n",
       "0                      268.0                4.0            500.0   \n",
       "1                      178.0                1.0            400.0   \n",
       "2                      232.0                1.0            420.0   \n",
       "3                      468.0                3.0            450.0   \n",
       "4                      316.0                4.0            250.0   \n",
       "\n",
       "   product_length_cm product_height_cm product_width_cm  \n",
       "0               19.0               8.0             13.0  \n",
       "1               19.0              13.0             19.0  \n",
       "2               24.0              19.0             21.0  \n",
       "3               30.0              10.0             20.0  \n",
       "4               51.0              15.0             15.0  \n",
       "\n",
       "[5 rows x 36 columns]"
      ]
     },
     "execution_count": 3,
     "metadata": {},
     "output_type": "execute_result"
    }
   ],
   "source": [
    "data = pd.read_csv('processed_data.csv')\n",
    "data.head()"
   ]
  },
  {
   "cell_type": "code",
   "execution_count": 4,
   "id": "refined-boston",
   "metadata": {},
   "outputs": [],
   "source": [
    "data = data.dropna(subset=['order_id','customer_id'])"
   ]
  },
  {
   "cell_type": "markdown",
   "id": "forward-nursery",
   "metadata": {},
   "source": [
    "## Customer behaviour"
   ]
  },
  {
   "cell_type": "code",
   "execution_count": 5,
   "id": "experimental-uzbekistan",
   "metadata": {},
   "outputs": [
    {
     "data": {
      "text/plain": [
       "<AxesSubplot:xlabel='order_item_id', ylabel='count'>"
      ]
     },
     "execution_count": 5,
     "metadata": {},
     "output_type": "execute_result"
    },
    {
     "data": {
      "image/png": "[encoded data removed]",
      "text/plain": [
       "<Figure size 432x288 with 1 Axes>"
      ]
     },
     "metadata": {
      "needs_background": "light"
     },
     "output_type": "display_data"
    }
   ],
   "source": [
    "#number of items per purchase\n",
    "sb.countplot(x='order_item_id', data=data)"
   ]
  },
  {
   "cell_type": "markdown",
   "id": "featured-gregory",
   "metadata": {},
   "source": [
    "From the graph, we can see that most customer only buy one item per purchase."
   ]
  },
  {
   "cell_type": "markdown",
   "id": "saved-graduate",
   "metadata": {},
   "source": [
    "### Histogram of the price of item"
   ]
  },
  {
   "cell_type": "code",
   "execution_count": 6,
   "id": "curious-ottawa",
   "metadata": {},
   "outputs": [
    {
     "name": "stderr",
     "output_type": "stream",
     "text": [
      "C:\\Users\\Juan Samuel\\anaconda3\\lib\\site-packages\\seaborn\\distributions.py:2557: FutureWarning: `distplot` is a deprecated function and will be removed in a future version. Please adapt your code to use either `displot` (a figure-level function with similar flexibility) or `histplot` (an axes-level function for histograms).\n",
      "  warnings.warn(msg, FutureWarning)\n"
     ]
    },
    {
     "data": {
      "text/plain": [
       "(0.0, 1000.0)"
      ]
     },
     "execution_count": 6,
     "metadata": {},
     "output_type": "execute_result"
    },
    {
     "data": {
      "image/png": "[encoded data removed]",
      "text/plain": [
       "<Figure size 432x288 with 1 Axes>"
      ]
     },
     "metadata": {
      "needs_background": "light"
     },
     "output_type": "display_data"
    }
   ],
   "source": [
    "sb.distplot(data['price'],kde=False,bins=500,color='r')\n",
    "plt.xlim([0,1000])"
   ]
  },
  {
   "cell_type": "code",
   "execution_count": 7,
   "id": "official-nevada",
   "metadata": {},
   "outputs": [
    {
     "data": {
      "text/plain": [
       "count    95978.000000\n",
       "mean       137.146212\n",
       "std        209.188835\n",
       "min          0.850000\n",
       "25%         45.900000\n",
       "50%         86.800000\n",
       "75%        149.900000\n",
       "max      13440.000000\n",
       "Name: price, dtype: float64"
      ]
     },
     "execution_count": 7,
     "metadata": {},
     "output_type": "execute_result"
    }
   ],
   "source": [
    "data['price'].describe()"
   ]
  },
  {
   "cell_type": "markdown",
   "id": "induced-wages",
   "metadata": {},
   "source": [
    "## How about the freight value?"
   ]
  },
  {
   "cell_type": "markdown",
   "id": "adjustable-digit",
   "metadata": {},
   "source": [
    "A freight rate (historically and in ship chartering simply freight) is a price at which a certain cargo is delivered from one point to another. The price depends on the form of the cargo, the mode of transport (truck, ship, train, aircraft), the weight of the cargo, and the distance to the delivery destination."
   ]
  },
  {
   "cell_type": "code",
   "execution_count": 8,
   "id": "sunrise-glass",
   "metadata": {},
   "outputs": [
    {
     "data": {
      "text/plain": [
       "(0.0, 100.0)"
      ]
     },
     "execution_count": 8,
     "metadata": {},
     "output_type": "execute_result"
    },
    {
     "data": {
      "image/png": "[encoded data removed]",
      "text/plain": [
       "<Figure size 432x288 with 1 Axes>"
      ]
     },
     "metadata": {
      "needs_background": "light"
     },
     "output_type": "display_data"
    }
   ],
   "source": [
    "sb.distplot(data['freight_value'],kde=False,bins= 500, color ='b')\n",
    "plt.xlim([0,100])"
   ]
  },
  {
   "cell_type": "code",
   "execution_count": 9,
   "id": "female-gibraltar",
   "metadata": {},
   "outputs": [
    {
     "data": {
      "text/plain": [
       "0        0.290764\n",
       "1        0.191744\n",
       "2        0.120200\n",
       "3        0.604444\n",
       "4        0.438191\n",
       "           ...   \n",
       "95973    0.181667\n",
       "95974    0.114923\n",
       "95975    0.315646\n",
       "95976    0.225513\n",
       "95977    0.268029\n",
       "Name: freight_ratio, Length: 95978, dtype: float64"
      ]
     },
     "execution_count": 9,
     "metadata": {},
     "output_type": "execute_result"
    }
   ],
   "source": [
    "#freight rate\n",
    "data['freight_ratio'] = data['freight_value']/data['price']\n",
    "data['freight_ratio']"
   ]
  },
  {
   "cell_type": "markdown",
   "id": "worldwide-latino",
   "metadata": {},
   "source": [
    "Is there any correlation between the price and the freight ratio?"
   ]
  },
  {
   "cell_type": "code",
   "execution_count": 42,
   "id": "determined-method",
   "metadata": {},
   "outputs": [
    {
     "name": "stdout",
     "output_type": "stream",
     "text": [
      "The correlation between price and the freight ratio is:\t -0.29903129812975426\n"
     ]
    }
   ],
   "source": [
    "corr = np.corrcoef(data['freight_ratio'],data['price'])[0,1]\n",
    "print(\"The correlation between price and the freight ratio is:\\t\",corr)"
   ]
  },
  {
   "cell_type": "markdown",
   "id": "several-steam",
   "metadata": {},
   "source": [
    "It seems there is such a low correlation between these 2. Suggested solution: give a discount or promo for high price, discount in the freight value."
   ]
  },
  {
   "cell_type": "markdown",
   "id": "moral-judges",
   "metadata": {},
   "source": [
    "## Customer origin"
   ]
  },
  {
   "cell_type": "code",
   "execution_count": 10,
   "id": "expanded-julian",
   "metadata": {},
   "outputs": [
    {
     "data": {
      "text/plain": [
       "Text(0, 0.5, 'Order counts')"
      ]
     },
     "execution_count": 10,
     "metadata": {},
     "output_type": "execute_result"
    },
    {
     "data": {
      "image/png": "[encoded data removed]",
      "text/plain": [
       "<Figure size 576x288 with 1 Axes>"
      ]
     },
     "metadata": {
      "needs_background": "light"
     },
     "output_type": "display_data"
    }
   ],
   "source": [
    "plt.figure(figsize=(8,4))\n",
    "sb.countplot(x = 'customer_state', data = data,order = data['customer_state'].value_counts().index, palette = \"coolwarm\")\n",
    "plt.ylabel('Order counts')"
   ]
  },
  {
   "cell_type": "markdown",
   "id": "impressed-gregory",
   "metadata": {},
   "source": [
    "It clearly shows that SP is the state with most orders with significant differences compared to the others"
   ]
  },
  {
   "cell_type": "markdown",
   "id": "billion-conversation",
   "metadata": {},
   "source": [
    "## Review score analysis"
   ]
  },
  {
   "cell_type": "markdown",
   "id": "educational-monitor",
   "metadata": {},
   "source": [
    "First we check the number of occurence for each review score"
   ]
  },
  {
   "cell_type": "code",
   "execution_count": 11,
   "id": "accurate-blowing",
   "metadata": {},
   "outputs": [
    {
     "data": {
      "text/plain": [
       "<AxesSubplot:xlabel='score', ylabel='review_percentage'>"
      ]
     },
     "execution_count": 11,
     "metadata": {},
     "output_type": "execute_result"
    },
    {
     "data": {
      "image/png": "[encoded data removed]",
      "text/plain": [
       "<Figure size 432x288 with 1 Axes>"
      ]
     },
     "metadata": {
      "needs_background": "light"
     },
     "output_type": "display_data"
    }
   ],
   "source": [
    "review_counts = data['review_score'].value_counts().to_frame().reset_index()\n",
    "review_counts['score'] = review_counts['index']\n",
    "review_counts['review_percentage'] = review_counts['review_score']/sum(review_counts['review_score'])*100\n",
    "sb.barplot(x='score',y='review_percentage',data=review_counts,palette = \"coolwarm\")"
   ]
  },
  {
   "cell_type": "markdown",
   "id": "overhead-repeat",
   "metadata": {},
   "source": [
    "Next, we see the how these reviews correlate with the customer's state"
   ]
  },
  {
   "cell_type": "code",
   "execution_count": 12,
   "id": "certified-lighting",
   "metadata": {},
   "outputs": [
    {
     "data": {
      "text/html": [
       "<div>\n",
       "<style scoped>\n",
       "    .dataframe tbody tr th:only-of-type {\n",
       "        vertical-align: middle;\n",
       "    }\n",
       "\n",
       "    .dataframe tbody tr th {\n",
       "        vertical-align: top;\n",
       "    }\n",
       "\n",
       "    .dataframe thead th {\n",
       "        text-align: right;\n",
       "    }\n",
       "</style>\n",
       "<table border=\"1\" class=\"dataframe\">\n",
       "  <thead>\n",
       "    <tr style=\"text-align: right;\">\n",
       "      <th></th>\n",
       "      <th>customer_state</th>\n",
       "      <th>review_score</th>\n",
       "    </tr>\n",
       "  </thead>\n",
       "  <tbody>\n",
       "    <tr>\n",
       "      <th>25</th>\n",
       "      <td>SP</td>\n",
       "      <td>4.236100</td>\n",
       "    </tr>\n",
       "    <tr>\n",
       "      <th>17</th>\n",
       "      <td>PR</td>\n",
       "      <td>4.231993</td>\n",
       "    </tr>\n",
       "    <tr>\n",
       "      <th>2</th>\n",
       "      <td>AM</td>\n",
       "      <td>4.229167</td>\n",
       "    </tr>\n",
       "    <tr>\n",
       "      <th>3</th>\n",
       "      <td>AP</td>\n",
       "      <td>4.223881</td>\n",
       "    </tr>\n",
       "    <tr>\n",
       "      <th>22</th>\n",
       "      <td>RS</td>\n",
       "      <td>4.182041</td>\n",
       "    </tr>\n",
       "    <tr>\n",
       "      <th>10</th>\n",
       "      <td>MG</td>\n",
       "      <td>4.181987</td>\n",
       "    </tr>\n",
       "    <tr>\n",
       "      <th>20</th>\n",
       "      <td>RO</td>\n",
       "      <td>4.175000</td>\n",
       "    </tr>\n",
       "    <tr>\n",
       "      <th>26</th>\n",
       "      <td>TO</td>\n",
       "      <td>4.165441</td>\n",
       "    </tr>\n",
       "    <tr>\n",
       "      <th>11</th>\n",
       "      <td>MS</td>\n",
       "      <td>4.153295</td>\n",
       "    </tr>\n",
       "    <tr>\n",
       "      <th>12</th>\n",
       "      <td>MT</td>\n",
       "      <td>4.135074</td>\n",
       "    </tr>\n",
       "    <tr>\n",
       "      <th>19</th>\n",
       "      <td>RN</td>\n",
       "      <td>4.129237</td>\n",
       "    </tr>\n",
       "    <tr>\n",
       "      <th>6</th>\n",
       "      <td>DF</td>\n",
       "      <td>4.129173</td>\n",
       "    </tr>\n",
       "    <tr>\n",
       "      <th>23</th>\n",
       "      <td>SC</td>\n",
       "      <td>4.119830</td>\n",
       "    </tr>\n",
       "    <tr>\n",
       "      <th>0</th>\n",
       "      <td>AC</td>\n",
       "      <td>4.113924</td>\n",
       "    </tr>\n",
       "    <tr>\n",
       "      <th>8</th>\n",
       "      <td>GO</td>\n",
       "      <td>4.087873</td>\n",
       "    </tr>\n",
       "    <tr>\n",
       "      <th>15</th>\n",
       "      <td>PE</td>\n",
       "      <td>4.068640</td>\n",
       "    </tr>\n",
       "    <tr>\n",
       "      <th>14</th>\n",
       "      <td>PB</td>\n",
       "      <td>4.060078</td>\n",
       "    </tr>\n",
       "    <tr>\n",
       "      <th>7</th>\n",
       "      <td>ES</td>\n",
       "      <td>4.048265</td>\n",
       "    </tr>\n",
       "    <tr>\n",
       "      <th>16</th>\n",
       "      <td>PI</td>\n",
       "      <td>3.976842</td>\n",
       "    </tr>\n",
       "    <tr>\n",
       "      <th>18</th>\n",
       "      <td>RJ</td>\n",
       "      <td>3.948718</td>\n",
       "    </tr>\n",
       "    <tr>\n",
       "      <th>5</th>\n",
       "      <td>CE</td>\n",
       "      <td>3.940392</td>\n",
       "    </tr>\n",
       "    <tr>\n",
       "      <th>4</th>\n",
       "      <td>BA</td>\n",
       "      <td>3.911810</td>\n",
       "    </tr>\n",
       "    <tr>\n",
       "      <th>21</th>\n",
       "      <td>RR</td>\n",
       "      <td>3.902439</td>\n",
       "    </tr>\n",
       "    <tr>\n",
       "      <th>13</th>\n",
       "      <td>PA</td>\n",
       "      <td>3.892439</td>\n",
       "    </tr>\n",
       "    <tr>\n",
       "      <th>24</th>\n",
       "      <td>SE</td>\n",
       "      <td>3.891566</td>\n",
       "    </tr>\n",
       "    <tr>\n",
       "      <th>1</th>\n",
       "      <td>AL</td>\n",
       "      <td>3.843038</td>\n",
       "    </tr>\n",
       "    <tr>\n",
       "      <th>9</th>\n",
       "      <td>MA</td>\n",
       "      <td>3.805907</td>\n",
       "    </tr>\n",
       "  </tbody>\n",
       "</table>\n",
       "</div>"
      ],
      "text/plain": [
       "   customer_state  review_score\n",
       "25             SP      4.236100\n",
       "17             PR      4.231993\n",
       "2              AM      4.229167\n",
       "3              AP      4.223881\n",
       "22             RS      4.182041\n",
       "10             MG      4.181987\n",
       "20             RO      4.175000\n",
       "26             TO      4.165441\n",
       "11             MS      4.153295\n",
       "12             MT      4.135074\n",
       "19             RN      4.129237\n",
       "6              DF      4.129173\n",
       "23             SC      4.119830\n",
       "0              AC      4.113924\n",
       "8              GO      4.087873\n",
       "15             PE      4.068640\n",
       "14             PB      4.060078\n",
       "7              ES      4.048265\n",
       "16             PI      3.976842\n",
       "18             RJ      3.948718\n",
       "5              CE      3.940392\n",
       "4              BA      3.911810\n",
       "21             RR      3.902439\n",
       "13             PA      3.892439\n",
       "24             SE      3.891566\n",
       "1              AL      3.843038\n",
       "9              MA      3.805907"
      ]
     },
     "execution_count": 12,
     "metadata": {},
     "output_type": "execute_result"
    }
   ],
   "source": [
    "review_score_state = data.groupby('customer_state').agg({'review_score': 'mean'}).reset_index().sort_values('review_score',ascending = False)\n",
    "review_score_state"
   ]
  },
  {
   "cell_type": "markdown",
   "id": "technological-gentleman",
   "metadata": {},
   "source": [
    "At this rate, we can assume that the number of high orders in SP correspond to the customer satisfaction in that state. Let's try to plot this!"
   ]
  },
  {
   "cell_type": "code",
   "execution_count": 13,
   "id": "extraordinary-location",
   "metadata": {},
   "outputs": [
    {
     "data": {
      "text/plain": [
       "<Figure size 1152x576 with 0 Axes>"
      ]
     },
     "execution_count": 13,
     "metadata": {},
     "output_type": "execute_result"
    },
    {
     "data": {
      "image/png": "[encoded data removed]",
      "text/plain": [
       "<Figure size 432x288 with 1 Axes>"
      ]
     },
     "metadata": {
      "needs_background": "light"
     },
     "output_type": "display_data"
    },
    {
     "data": {
      "text/plain": [
       "<Figure size 1152x576 with 0 Axes>"
      ]
     },
     "metadata": {},
     "output_type": "display_data"
    }
   ],
   "source": [
    "sb.barplot(x='customer_state',y='review_score',data=review_score_state)\n",
    "plt.figure(figsize=(16,8))"
   ]
  },
  {
   "cell_type": "markdown",
   "id": "relevant-supplement",
   "metadata": {},
   "source": [
    "From this barplot, we can see that most state are equally satisfied with the orders, giving rate ranging from 3.8 to 4.2"
   ]
  },
  {
   "cell_type": "markdown",
   "id": "smart-germany",
   "metadata": {},
   "source": [
    "Now we change the columns with date and time to the date-time pandas object"
   ]
  },
  {
   "cell_type": "code",
   "execution_count": 14,
   "id": "meaning-gender",
   "metadata": {},
   "outputs": [],
   "source": [
    "data['order_estimated_delivery_date'] = pd.to_datetime(data['order_estimated_delivery_date'])\n",
    "data['order_delivered_customer_date'] = pd.to_datetime(data['order_delivered_customer_date'])\n",
    "data['order_approved_at'] = pd.to_datetime(data['order_approved_at'])\n",
    "data['review_creation_date'] = pd.to_datetime(data['review_creation_date'])\n",
    "data['review_answer_timestamp'] = pd.to_datetime(data['review_answer_timestamp'])\n",
    "data['order_purchase_timestamp'] = pd.to_datetime(data['order_purchase_timestamp'])"
   ]
  },
  {
   "cell_type": "markdown",
   "id": "tamil-venue",
   "metadata": {},
   "source": [
    "Next, we create new features to help us analyse the review score, including estimated delivery time, real delivery time, delay, and review before delivery."
   ]
  },
  {
   "cell_type": "code",
   "execution_count": 15,
   "id": "martial-borough",
   "metadata": {},
   "outputs": [],
   "source": [
    "data['estimated_delivery_time'] = (data['order_estimated_delivery_date']-data['order_approved_at']).dt.days.astype('timedelta64[D]')\n",
    "data['real_delivery_time'] = (data['order_delivered_customer_date']-data['order_approved_at']).dt.days.astype('timedelta64[D]')\n",
    "data['delay'] = (data['order_delivered_customer_date']-data['order_estimated_delivery_date']).dt.days.astype('timedelta64[D]')\n",
    "data['review_before_delivery'] = (data['order_delivered_customer_date']-data['review_answer_timestamp']).dt.days.astype('timedelta64[D]')"
   ]
  },
  {
   "cell_type": "code",
   "execution_count": 16,
   "id": "eleven-browser",
   "metadata": {},
   "outputs": [],
   "source": [
    "data['estimated_delivery_time'] = (data['estimated_delivery_time']/np.timedelta64(1, 'D')).astype(int)\n",
    "data['real_delivery_time'] = (data['real_delivery_time']/np.timedelta64(1, 'D')).astype(int)\n",
    "data['delay'] = (data['delay']/np.timedelta64(1, 'D')).astype(int)\n",
    "data['review_before_delivery'] = (data['review_before_delivery']/np.timedelta64(1, 'D')).astype(int)"
   ]
  },
  {
   "cell_type": "code",
   "execution_count": 17,
   "id": "selective-commitment",
   "metadata": {},
   "outputs": [],
   "source": [
    "data['delay'] = data['delay'].apply(lambda x: x if x>0 else 0)\n",
    "data['review_before_delivery'] = data['review_before_delivery'].apply(lambda x: 1 if x>0 else 0)\n",
    "data['late'] = data['delay'].apply(lambda x: 1 if x>0 else 0)"
   ]
  },
  {
   "cell_type": "code",
   "execution_count": 18,
   "id": "interracial-spanish",
   "metadata": {},
   "outputs": [
    {
     "name": "stderr",
     "output_type": "stream",
     "text": [
      "C:\\Users\\Juan Samuel\\anaconda3\\lib\\site-packages\\seaborn\\distributions.py:2557: FutureWarning: `distplot` is a deprecated function and will be removed in a future version. Please adapt your code to use either `displot` (a figure-level function with similar flexibility) or `histplot` (an axes-level function for histograms).\n",
      "  warnings.warn(msg, FutureWarning)\n",
      "C:\\Users\\Juan Samuel\\anaconda3\\lib\\site-packages\\seaborn\\distributions.py:2557: FutureWarning: `distplot` is a deprecated function and will be removed in a future version. Please adapt your code to use either `displot` (a figure-level function with similar flexibility) or `histplot` (an axes-level function for histograms).\n",
      "  warnings.warn(msg, FutureWarning)\n"
     ]
    },
    {
     "data": {
      "text/plain": [
       "<matplotlib.legend.Legend at 0x211b9cb6a00>"
      ]
     },
     "execution_count": 18,
     "metadata": {},
     "output_type": "execute_result"
    },
    {
     "data": {
      "image/png": "[encoded data removed]",
      "text/plain": [
       "<Figure size 720x360 with 1 Axes>"
      ]
     },
     "metadata": {
      "needs_background": "light"
     },
     "output_type": "display_data"
    }
   ],
   "source": [
    "plt.figure(figsize=(10,5))\n",
    "sb.distplot(data['real_delivery_time'],label='Actual')\n",
    "sb.distplot(data['estimated_delivery_time'],label='Estimated')\n",
    "plt.xlim([-10,100])\n",
    "plt.xlabel('Estimated and real delivery time histograms')\n",
    "plt.legend()"
   ]
  },
  {
   "cell_type": "markdown",
   "id": "outside-logic",
   "metadata": {},
   "source": [
    "From the graph, we can see that the actual time taken to deliver the items are to the left of the estimated time, indicating that most of the time, the actual delivery time was faster than the estimated delivery time. It may be one of the main contributor to the high rating given by consumers, but let's continue the analysis."
   ]
  },
  {
   "cell_type": "code",
   "execution_count": 20,
   "id": "wrong-poultry",
   "metadata": {},
   "outputs": [
    {
     "data": {
      "text/plain": [
       "<AxesSubplot:xlabel='late', ylabel='count'>"
      ]
     },
     "execution_count": 20,
     "metadata": {},
     "output_type": "execute_result"
    },
    {
     "data": {
      "image/png": "[encoded data removed]",
      "text/plain": [
       "<Figure size 360x360 with 1 Axes>"
      ]
     },
     "metadata": {
      "needs_background": "light"
     },
     "output_type": "display_data"
    }
   ],
   "source": [
    "plt.figure(figsize=(5,5))\n",
    "sb.countplot(x='late', data = data)"
   ]
  },
  {
   "cell_type": "markdown",
   "id": "economic-internet",
   "metadata": {},
   "source": [
    "As expected, the number of late deliveries is far smaller to the one which is not. But let's take a deeper look into the late deliveries by looking the delay feature which we have created before"
   ]
  },
  {
   "cell_type": "code",
   "execution_count": 26,
   "id": "unnecessary-greeting",
   "metadata": {},
   "outputs": [
    {
     "name": "stdout",
     "output_type": "stream",
     "text": [
      "The average delay of the deliveries is 10.62257766840972 minutes\n"
     ]
    }
   ],
   "source": [
    "total_delay = data[data['delay']>0].delay.sum()\n",
    "numbers_of_delay = data[data['delay']>0].delay.count()\n",
    "average_delay= total_delay/numbers_of_delay\n",
    "print(\"The average delay of the deliveries is\",average_delay,\"minutes\")"
   ]
  },
  {
   "cell_type": "markdown",
   "id": "classified-integration",
   "metadata": {},
   "source": [
    "11 minutes are quite a delay. It might be one of the factor of consumers giving low scores. Let's now see the average delay in different places."
   ]
  },
  {
   "cell_type": "code",
   "execution_count": 30,
   "id": "nuclear-supplier",
   "metadata": {},
   "outputs": [
    {
     "data": {
      "text/html": [
       "<div>\n",
       "<style scoped>\n",
       "    .dataframe tbody tr th:only-of-type {\n",
       "        vertical-align: middle;\n",
       "    }\n",
       "\n",
       "    .dataframe tbody tr th {\n",
       "        vertical-align: top;\n",
       "    }\n",
       "\n",
       "    .dataframe thead th {\n",
       "        text-align: right;\n",
       "    }\n",
       "</style>\n",
       "<table border=\"1\" class=\"dataframe\">\n",
       "  <thead>\n",
       "    <tr style=\"text-align: right;\">\n",
       "      <th></th>\n",
       "      <th>late</th>\n",
       "    </tr>\n",
       "    <tr>\n",
       "      <th>customer_state</th>\n",
       "      <th></th>\n",
       "    </tr>\n",
       "  </thead>\n",
       "  <tbody>\n",
       "    <tr>\n",
       "      <th>AL</th>\n",
       "      <td>0.212658</td>\n",
       "    </tr>\n",
       "    <tr>\n",
       "      <th>MA</th>\n",
       "      <td>0.175809</td>\n",
       "    </tr>\n",
       "    <tr>\n",
       "      <th>SE</th>\n",
       "      <td>0.153614</td>\n",
       "    </tr>\n",
       "    <tr>\n",
       "      <th>CE</th>\n",
       "      <td>0.138039</td>\n",
       "    </tr>\n",
       "    <tr>\n",
       "      <th>PI</th>\n",
       "      <td>0.136842</td>\n",
       "    </tr>\n",
       "    <tr>\n",
       "      <th>RR</th>\n",
       "      <td>0.121951</td>\n",
       "    </tr>\n",
       "    <tr>\n",
       "      <th>BA</th>\n",
       "      <td>0.121492</td>\n",
       "    </tr>\n",
       "    <tr>\n",
       "      <th>RJ</th>\n",
       "      <td>0.121286</td>\n",
       "    </tr>\n",
       "    <tr>\n",
       "      <th>PA</th>\n",
       "      <td>0.111821</td>\n",
       "    </tr>\n",
       "    <tr>\n",
       "      <th>ES</th>\n",
       "      <td>0.107089</td>\n",
       "    </tr>\n",
       "    <tr>\n",
       "      <th>PB</th>\n",
       "      <td>0.104651</td>\n",
       "    </tr>\n",
       "    <tr>\n",
       "      <th>TO</th>\n",
       "      <td>0.099265</td>\n",
       "    </tr>\n",
       "    <tr>\n",
       "      <th>MS</th>\n",
       "      <td>0.097421</td>\n",
       "    </tr>\n",
       "    <tr>\n",
       "      <th>PE</th>\n",
       "      <td>0.096348</td>\n",
       "    </tr>\n",
       "    <tr>\n",
       "      <th>RN</th>\n",
       "      <td>0.093220</td>\n",
       "    </tr>\n",
       "    <tr>\n",
       "      <th>SC</th>\n",
       "      <td>0.081586</td>\n",
       "    </tr>\n",
       "    <tr>\n",
       "      <th>GO</th>\n",
       "      <td>0.065262</td>\n",
       "    </tr>\n",
       "    <tr>\n",
       "      <th>RS</th>\n",
       "      <td>0.060617</td>\n",
       "    </tr>\n",
       "    <tr>\n",
       "      <th>MT</th>\n",
       "      <td>0.060159</td>\n",
       "    </tr>\n",
       "    <tr>\n",
       "      <th>DF</th>\n",
       "      <td>0.056604</td>\n",
       "    </tr>\n",
       "    <tr>\n",
       "      <th>MG</th>\n",
       "      <td>0.045873</td>\n",
       "    </tr>\n",
       "    <tr>\n",
       "      <th>SP</th>\n",
       "      <td>0.044927</td>\n",
       "    </tr>\n",
       "    <tr>\n",
       "      <th>PR</th>\n",
       "      <td>0.040196</td>\n",
       "    </tr>\n",
       "    <tr>\n",
       "      <th>AC</th>\n",
       "      <td>0.037975</td>\n",
       "    </tr>\n",
       "    <tr>\n",
       "      <th>AP</th>\n",
       "      <td>0.029851</td>\n",
       "    </tr>\n",
       "    <tr>\n",
       "      <th>RO</th>\n",
       "      <td>0.029167</td>\n",
       "    </tr>\n",
       "    <tr>\n",
       "      <th>AM</th>\n",
       "      <td>0.027778</td>\n",
       "    </tr>\n",
       "  </tbody>\n",
       "</table>\n",
       "</div>"
      ],
      "text/plain": [
       "                    late\n",
       "customer_state          \n",
       "AL              0.212658\n",
       "MA              0.175809\n",
       "SE              0.153614\n",
       "CE              0.138039\n",
       "PI              0.136842\n",
       "RR              0.121951\n",
       "BA              0.121492\n",
       "RJ              0.121286\n",
       "PA              0.111821\n",
       "ES              0.107089\n",
       "PB              0.104651\n",
       "TO              0.099265\n",
       "MS              0.097421\n",
       "PE              0.096348\n",
       "RN              0.093220\n",
       "SC              0.081586\n",
       "GO              0.065262\n",
       "RS              0.060617\n",
       "MT              0.060159\n",
       "DF              0.056604\n",
       "MG              0.045873\n",
       "SP              0.044927\n",
       "PR              0.040196\n",
       "AC              0.037975\n",
       "AP              0.029851\n",
       "RO              0.029167\n",
       "AM              0.027778"
      ]
     },
     "execution_count": 30,
     "metadata": {},
     "output_type": "execute_result"
    }
   ],
   "source": [
    "late_data_state= data.groupby('customer_state').agg({'late':'mean'}).sort_values('late',ascending=False)\n",
    "late_data_state"
   ]
  },
  {
   "cell_type": "markdown",
   "id": "sticky-renaissance",
   "metadata": {},
   "source": [
    "As expected, SP with high rating score, has low late frequency, how about we go visualize it?"
   ]
  },
  {
   "cell_type": "code",
   "execution_count": 33,
   "id": "eleven-casino",
   "metadata": {},
   "outputs": [
    {
     "data": {
      "text/plain": [
       "<AxesSubplot:xlabel='customer_state', ylabel='late'>"
      ]
     },
     "execution_count": 33,
     "metadata": {},
     "output_type": "execute_result"
    },
    {
     "data": {
      "image/png": "[encoded data removed]",
      "text/plain": [
       "<Figure size 432x288 with 1 Axes>"
      ]
     },
     "metadata": {
      "needs_background": "light"
     },
     "output_type": "display_data"
    }
   ],
   "source": [
    "sb.barplot(x = late_data_state.index, y='late', data = late_data_state)"
   ]
  },
  {
   "cell_type": "markdown",
   "id": "lucky-drilling",
   "metadata": {},
   "source": [
    "Now, let's see the correlation between this late frequency with the review score"
   ]
  },
  {
   "cell_type": "code",
   "execution_count": 37,
   "id": "happy-healing",
   "metadata": {},
   "outputs": [
    {
     "name": "stdout",
     "output_type": "stream",
     "text": [
      "The coefficient between the state review score and late rate:\t -0.894239608845938\n"
     ]
    }
   ],
   "source": [
    "state_late_delivery_freq = data.groupby('customer_state').agg({'late':'mean'}).reset_index()\n",
    "state_review_score       = data.groupby('customer_state').agg({'review_score':'mean'}).reset_index()\n",
    "corr = np.corrcoef(state_late_delivery_freq['late'],state_review_score['review_score'])[0,1]\n",
    "print(\"The coefficient between the state review score and late rate:\\t\",corr)"
   ]
  },
  {
   "cell_type": "markdown",
   "id": "crazy-consequence",
   "metadata": {},
   "source": [
    "What a high correlation! This shows us that when the late rate are low, people will most likely give a high rate score."
   ]
  },
  {
   "cell_type": "code",
   "execution_count": null,
   "id": "dressed-cause",
   "metadata": {},
   "outputs": [],
   "source": []
  },
  {
   "cell_type": "code",
   "execution_count": null,
   "id": "straight-beatles",
   "metadata": {},
   "outputs": [],
   "source": []
  }
 ],
 "metadata": {
  "kernelspec": {
   "display_name": "Python 3",
   "language": "python",
   "name": "python3"
  },
  "language_info": {
   "codemirror_mode": {
    "name": "ipython",
    "version": 3
   },
   "file_extension": ".py",
   "mimetype": "text/x-python",
   "name": "python",
   "nbconvert_exporter": "python",
   "pygments_lexer": "ipython3",
   "version": "3.8.5"
  }
 },
 "nbformat": 4,
 "nbformat_minor": 5
}
